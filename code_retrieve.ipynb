{
 "cells": [
  {
   "cell_type": "code",
   "execution_count": 3,
   "metadata": {
    "collapsed": true
   },
   "outputs": [],
   "source": [
    "import os\n",
    "import sys\n",
    "import string \n",
    "import time\n",
    "import timeit\n",
    "import re\n",
    "import nltk\n",
    "import os\n",
    "\n",
    "from nltk.stem import *\n",
    "from nltk.corpus import stopwords\n",
    "from nltk.stem.porter import *\n",
    "from collections import Counter"
   ]
  },
  {
   "cell_type": "code",
   "execution_count": 4,
   "metadata": {
    "collapsed": true
   },
   "outputs": [],
   "source": [
    "dirname = '/Users/mueric35/Box Sync/nytimes_articles/Org_article'\n"
   ]
  },
  {
   "cell_type": "code",
   "execution_count": 11,
   "metadata": {},
   "outputs": [
    {
     "name": "stderr",
     "output_type": "stream",
     "text": [
      "Loading: article_201607.txt\n",
      "Saving: article_201607.txt\n",
      "Loading: article_201608.txt\n",
      "Saving: article_201608.txt\n",
      "Loading: article_201609.txt\n",
      "Saving: article_201609.txt\n",
      "Loading: article_201610.txt\n",
      "Saving: article_201610.txt\n",
      "Loading: article_201611.txt\n",
      "Saving: article_201611.txt\n",
      "Loading: article_201612.txt\n",
      "Saving: article_201612.txt\n",
      "Loading: article_201701.txt\n",
      "Saving: article_201701.txt\n",
      "Loading: article_201702.txt\n",
      "Saving: article_201702.txt\n",
      "Loading: article_201703.txt\n",
      "Saving: article_201703.txt\n",
      "Loading: article_201704.txt\n",
      "Saving: article_201704.txt\n",
      "Loading: article_201705.txt\n",
      "Saving: article_201705.txt\n",
      "Loading: article_201706.txt\n",
      "Saving: article_201706.txt\n"
     ]
    }
   ],
   "source": [
    "code = []\n",
    "for filename in os.listdir(dirname):\n",
    "    print(\"Loading: %s\" % filename,file=sys.stderr)\n",
    "    lines = open(dirname + '/' + filename).readlines()\n",
    "    index = [index for index, value in enumerate(lines) if value == '************\\n'][:-1]\n",
    "    n_index = [i + 1 for i in index]\n",
    "    code_article = [lines[i+1].split('\\n')[0] for i in n_index]\n",
    "    code.append(code_article)\n",
    "    print(\"Saving: %s\" % filename,file=sys.stderr)\n",
    "\n",
    "    f = open('/Users/mueric35/Box Sync/nytimes_articles/code_article/' + 'code_' + filename,'w')\n",
    "    for i in code_article:\n",
    "        f.write(i+'\\n')\n",
    "    f.close()\n",
    "        "
   ]
  },
  {
   "cell_type": "code",
   "execution_count": 26,
   "metadata": {},
   "outputs": [],
   "source": [
    "lines = open(dirname + '/' + filename).readlines()\n"
   ]
  },
  {
   "cell_type": "code",
   "execution_count": 34,
   "metadata": {},
   "outputs": [],
   "source": [
    "index = [index for index, value in enumerate(lines) if value == '************\\n'][:-1]\n",
    "n_index = [0] + [i + 1 for i in index]\n"
   ]
  },
  {
   "cell_type": "code",
   "execution_count": 35,
   "metadata": {
    "collapsed": true
   },
   "outputs": [],
   "source": [
    "code_article = [lines[i+1].split('\\n')[0] for i in n_index]\n"
   ]
  },
  {
   "cell_type": "code",
   "execution_count": null,
   "metadata": {
    "collapsed": true
   },
   "outputs": [],
   "source": [
    "code_a"
   ]
  },
  {
   "cell_type": "code",
   "execution_count": null,
   "metadata": {
    "collapsed": true
   },
   "outputs": [],
   "source": [
    "code.append(code_article)\n",
    "print(\"Saving: %s\" % filename,file=sys.stderr)"
   ]
  }
 ],
 "metadata": {
  "kernelspec": {
   "display_name": "Python 3",
   "language": "python",
   "name": "python3"
  },
  "language_info": {
   "codemirror_mode": {
    "name": "ipython",
    "version": 3
   },
   "file_extension": ".py",
   "mimetype": "text/x-python",
   "name": "python",
   "nbconvert_exporter": "python",
   "pygments_lexer": "ipython3",
   "version": "3.6.1"
  }
 },
 "nbformat": 4,
 "nbformat_minor": 2
}
