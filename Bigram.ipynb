{
 "cells": [
  {
   "cell_type": "code",
   "execution_count": 1,
   "metadata": {
    "collapsed": true
   },
   "outputs": [],
   "source": [
    "import sys\n",
    "import string \n",
    "import time\n",
    "import timeit\n",
    "import re\n",
    "import nltk\n",
    "import os\n",
    "\n",
    "from nltk.stem import *\n",
    "from nltk.corpus import stopwords\n",
    "from nltk.stem.porter import *\n",
    "from collections import Counter\n",
    "\n",
    "# Stemming\n",
    "def stem_tokens(tokens, stemmer):\n",
    "    stemmed = []\n",
    "    for item in tokens:\n",
    "        stemmed.append(stemmer.stem(item))\n",
    "    return stemmed\n",
    "\n",
    "stemmer = PorterStemmer()\n",
    "\n",
    "# Stopwords\n",
    "dict_stop = stopwords.words('english')"
   ]
  },
  {
   "cell_type": "markdown",
   "metadata": {},
   "source": [
    "### Text Tidying Pipeline"
   ]
  },
  {
   "cell_type": "code",
   "execution_count": null,
   "metadata": {
    "collapsed": true
   },
   "outputs": [],
   "source": [
    "def processing(line):\n",
    "        line = line.lower().strip()\n",
    "        line = re.sub(r'<(.*?)>',' ',line)\n",
    "        line = re.sub(r'[\\w\\d]{20,}','',line)\n",
    "        line = re.sub(r'[\\d]','',line)\n",
    "        line = re.sub(r'[.]{1}','',line)\n",
    "        line = re.sub(r'- the new york times','',line)\n",
    "        line = line.translate(dict.fromkeys(map(ord,punc)))\n",
    "        line = line.replace('\"','').replace('“','').replace('”','').replace('’','').replace('•','').replace('‘','').replace('■','').replace('—','')\n",
    "        words = [word for word in nltk.word_tokenize(line) if word not in dict_stop]\n",
    "        line = ' '.join(list(map(stemmer.stem,words)))\n",
    "        if len(line) != 0:\n",
    "            return(line.strip())"
   ]
  },
  {
   "cell_type": "code",
   "execution_count": null,
   "metadata": {
    "collapsed": true
   },
   "outputs": [],
   "source": [
    "# Insert directory:\n",
    "dirname = '/Users/mueric35/Box Sync/nytimes_articles'\n",
    "\n",
    "for filename in os.listdir(dirname):\n",
    "    \n",
    "    print(\"Loading: %s\" % filename,file=sys.stderr)\n",
    "    \n",
    "    ### Read Data as lines\n",
    "    lines = open(dirname + '/' + filename).readlines()\n",
    "    \n",
    "    ### Words Processing Pipeline\n",
    "    punc = nltk.word_tokenize(string.punctuation)\n",
    "    punc.remove('*+')\n",
    "    punc = ''.join(punc)\n",
    "    \n",
    "        \n",
    "    print('Data Tidying', file = sys.stderr)\n",
    "    start = timeit.default_timer()\n",
    "    L = list(map(processing,lines))\n",
    "    L = [l for l in L if l != None]\n",
    "\n",
    "    elapsed = timeit.default_timer() - start\n",
    "    print('Time elapsed ' + str(round(elapsed/60,2)) + ' minutes', file = sys.stderr)\n",
    "\n",
    "    print('Export Text list'+'\\n', file = sys.stderr)\n",
    "    text = []\n",
    "    index = [index for index, value in enumerate(L) if value == '************']\n",
    "    j = 0\n",
    "    for i in index:\n",
    "        text.append(' '.join(L[j:i-1]))   \n",
    "        j = i+1\n",
    "    \n",
    "    collect_letters = []\n",
    "    for i in text:\n",
    "        collect_letters.append(list(set(i)))\n",
    "\n",
    "    normal_letters = list(map(ord, 'abcdefghijklmnopqrstuvwxyz '))\n",
    "\n",
    "    symbol_ord = []\n",
    "    for i in range(len(text)):\n",
    "        symbol_ord += [x for x in list(map(ord,collect_letters[i])) if x not in normal_letters]\n",
    "    \n",
    "    symbols = {}\n",
    "    for i in list(set(temp)):\n",
    "        symbols.update({i:None})\n",
    "\n",
    "    Text = []\n",
    "    for i in text:\n",
    "        Text.append(i.translate(symbols))\n",
    "\n",
    "    \n",
    "    f = open('tidy_' + filename,'w')\n",
    "    for i in Text:\n",
    "        f.write(i+'\\n')\n",
    "    f.close()\n",
    "\n",
    "    print('Completed' + '\\n', file = sys.stderr)"
   ]
  },
  {
   "cell_type": "markdown",
   "metadata": {},
   "source": [
    "### Bigram"
   ]
  },
  {
   "cell_type": "code",
   "execution_count": 6,
   "metadata": {
    "collapsed": true
   },
   "outputs": [],
   "source": [
    "text = '/Users/zhanghengqian/Dropbox/Duke/fall-2017/IDS/Tidy_data/tidy_article_201607.txt'\n",
    "text_bigram = list(map(lambda x: list(nltk.bigrams(nltk.word_tokenize(x))),text))"
   ]
  },
  {
   "cell_type": "code",
   "execution_count": null,
   "metadata": {
    "collapsed": true
   },
   "outputs": [],
   "source": [
    "start = timeit.default_timer()\n",
    "text_bigram = list(map(lambda x: list(nltk.bigrams(nltk.word_tokenize(x))),text))\n",
    "bigrm = [bi for Bi in text_bigram for bi in Bi]\n",
    "elapsed = timeit.default_timer() - start\n",
    "print(elapsed)"
   ]
  },
  {
   "cell_type": "markdown",
   "metadata": {},
   "source": [
    "### Count the bigram"
   ]
  },
  {
   "cell_type": "code",
   "execution_count": null,
   "metadata": {
    "collapsed": true
   },
   "outputs": [],
   "source": [
    "bigrm_table = Counter(bigrm)"
   ]
  },
  {
   "cell_type": "code",
   "execution_count": null,
   "metadata": {
    "collapsed": true
   },
   "outputs": [],
   "source": [
    "bigrm_table.most_common()"
   ]
  },
  {
   "cell_type": "markdown",
   "metadata": {},
   "source": [
    "### Bigram using nltk"
   ]
  },
  {
   "cell_type": "code",
   "execution_count": 52,
   "metadata": {
    "collapsed": true
   },
   "outputs": [],
   "source": [
    "from nltk.collocations import *"
   ]
  },
  {
   "cell_type": "code",
   "execution_count": 53,
   "metadata": {
    "collapsed": true
   },
   "outputs": [],
   "source": [
    "bigram_measures = nltk.collocations.BigramAssocMeasures()"
   ]
  },
  {
   "cell_type": "code",
   "execution_count": 54,
   "metadata": {},
   "outputs": [
    {
     "data": {
      "text/plain": [
       "['tidy_article_201607.txt',\n",
       " 'tidy_article_201608.txt',\n",
       " 'tidy_article_201609.txt',\n",
       " 'tidy_article_201610.txt',\n",
       " 'tidy_article_201611.txt',\n",
       " 'tidy_article_201612.txt',\n",
       " 'tidy_article_201701.txt',\n",
       " 'tidy_article_201702.txt',\n",
       " 'tidy_article_201703.txt',\n",
       " 'tidy_article_201704.txt',\n",
       " 'tidy_article_201705.txt',\n",
       " 'tidy_article_201706.txt']"
      ]
     },
     "execution_count": 54,
     "metadata": {},
     "output_type": "execute_result"
    }
   ],
   "source": [
    "path = '/Users/zhanghengqian/Dropbox/Duke/fall-2017/IDS/Tidy_data'\n",
    "os.listdir(path)"
   ]
  },
  {
   "cell_type": "code",
   "execution_count": 151,
   "metadata": {
    "collapsed": true
   },
   "outputs": [],
   "source": [
    "lines = open(path + '/' + os.listdir(path)[0]).readlines()"
   ]
  },
  {
   "cell_type": "code",
   "execution_count": 153,
   "metadata": {},
   "outputs": [],
   "source": [
    "new_lines = '+ '.join(lines)"
   ]
  },
  {
   "cell_type": "code",
   "execution_count": 160,
   "metadata": {},
   "outputs": [],
   "source": [
    "#using + to connect each article\n",
    "text = ''\n",
    "for loc in os.listdir(path):\n",
    "    add = path+'/'+loc\n",
    "    lines = open(path + '/' + loc).readlines()\n",
    "    new_lines = '+ '.join(lines)\n",
    "    text = text + '+ '+ new_lines "
   ]
  },
  {
   "cell_type": "code",
   "execution_count": 163,
   "metadata": {
    "collapsed": true
   },
   "outputs": [],
   "source": [
    "#tokenize the text\n",
    "word = nltk.word_tokenize(text)"
   ]
  },
  {
   "cell_type": "code",
   "execution_count": 167,
   "metadata": {},
   "outputs": [],
   "source": [
    "#construct bigram table\n",
    "finder = BigramCollocationFinder.from_words(word)"
   ]
  },
  {
   "cell_type": "code",
   "execution_count": 168,
   "metadata": {},
   "outputs": [],
   "source": [
    "#filter bigram containing + since we do not want to construct bigram across two different articles\n",
    "finder.apply_word_filter(lambda w: w == '+')"
   ]
  },
  {
   "cell_type": "code",
   "execution_count": 117,
   "metadata": {
    "collapsed": true
   },
   "outputs": [],
   "source": [
    "#below is the option: filter lower frequency bigram\n",
    "#finder.apply_freq_filter(50)"
   ]
  },
  {
   "cell_type": "code",
   "execution_count": 176,
   "metadata": {
    "collapsed": true
   },
   "outputs": [],
   "source": [
    "#scoring each bigram by computing point mutual information\n",
    "scored = finder.score_ngrams(bigram_measures.pmi)"
   ]
  },
  {
   "cell_type": "code",
   "execution_count": 170,
   "metadata": {},
   "outputs": [],
   "source": [
    "#sort raw frequency table\n",
    "sorted_freq = sorted(finder.ngram_fd.items(),key = lambda t: (-t[1],t[0]))"
   ]
  },
  {
   "cell_type": "code",
   "execution_count": 177,
   "metadata": {
    "collapsed": true
   },
   "outputs": [],
   "source": [
    "#turn score list to dictionary\n",
    "scored_dict = dict(scored)"
   ]
  },
  {
   "cell_type": "code",
   "execution_count": 180,
   "metadata": {},
   "outputs": [
    {
     "data": {
      "text/plain": [
       "[(('aakaash', 'israni'), 24.601038623241983),\n",
       " (('aamodt', 'kild'), 24.601038623241983),\n",
       " (('aaronel', 'deroy'), 24.601038623241983),\n",
       " (('aatish', 'taseer'), 24.601038623241983),\n",
       " (('abdelkhad', 'elmouaziz'), 24.601038623241983),\n",
       " (('abdulsattar', 'alhabu'), 24.601038623241983),\n",
       " (('abdussam', 'ambzhthing'), 24.601038623241983),\n",
       " (('abdygani', 'shakirov'), 24.601038623241983),\n",
       " (('abenaa', 'afrakoma'), 24.601038623241983)]"
      ]
     },
     "execution_count": 180,
     "metadata": {},
     "output_type": "execute_result"
    }
   ],
   "source": [
    "scored[1:10]"
   ]
  },
  {
   "cell_type": "code",
   "execution_count": 175,
   "metadata": {},
   "outputs": [
    {
     "data": {
      "text/plain": [
       "[(('mr', 'trump'), 55049),\n",
       " (('new', 'york'), 46078),\n",
       " (('unit', 'state'), 35635),\n",
       " (('last', 'year'), 15741),\n",
       " (('white', 'hous'), 11798),\n",
       " (('york', 'time'), 11144),\n",
       " (('said', 'mr'), 11022),\n",
       " (('mr', 'clinton'), 11018),\n",
       " (('year', 'ago'), 10195),\n",
       " (('last', 'week'), 8100)]"
      ]
     },
     "execution_count": 175,
     "metadata": {},
     "output_type": "execute_result"
    }
   ],
   "source": [
    "sorted_freq[0:10]"
   ]
  },
  {
   "cell_type": "markdown",
   "metadata": {},
   "source": [
    "***Source:http://www.nltk.org/howto/collocations.html***"
   ]
  }
 ],
 "metadata": {
  "kernelspec": {
   "display_name": "Python 3",
   "language": "python",
   "name": "python3"
  },
  "language_info": {
   "codemirror_mode": {
    "name": "ipython",
    "version": 3
   },
   "file_extension": ".py",
   "mimetype": "text/x-python",
   "name": "python",
   "nbconvert_exporter": "python",
   "pygments_lexer": "ipython3",
   "version": "3.6.1"
  }
 },
 "nbformat": 4,
 "nbformat_minor": 2
}
