{
 "cells": [
  {
   "cell_type": "code",
   "execution_count": 1,
   "metadata": {
    "collapsed": true
   },
   "outputs": [],
   "source": [
    "import sys\n",
    "import string \n",
    "import time\n",
    "import timeit\n",
    "import re\n",
    "import nltk\n",
    "import os\n",
    "\n",
    "from nltk.stem import *\n",
    "from nltk.corpus import stopwords\n",
    "from nltk.stem.porter import *\n",
    "from collections import Counter\n",
    "\n",
    "# Stemming\n",
    "def stem_tokens(tokens, stemmer):\n",
    "    stemmed = []\n",
    "    for item in tokens:\n",
    "        stemmed.append(stemmer.stem(item))\n",
    "    return stemmed\n",
    "\n",
    "stemmer = PorterStemmer()\n",
    "\n",
    "# Stopwords\n",
    "dict_stop = stopwords.words('english')"
   ]
  },
  {
   "cell_type": "markdown",
   "metadata": {},
   "source": [
    "### Text Tidying Pipeline"
   ]
  },
  {
   "cell_type": "code",
   "execution_count": null,
   "metadata": {
    "collapsed": true
   },
   "outputs": [],
   "source": [
    "def processing(line):\n",
    "        line = line.lower().strip()\n",
    "        line = re.sub(r'<(.*?)>',' ',line)\n",
    "        line = re.sub(r'[\\w\\d]{20,}','',line)\n",
    "        line = re.sub(r'[\\d]','',line)\n",
    "        line = re.sub(r'[.]{1}','',line)\n",
    "        line = re.sub(r'- the new york times','',line)\n",
    "        line = line.translate(dict.fromkeys(map(ord,punc)))\n",
    "        line = line.replace('\"','').replace('“','').replace('”','').replace('’','').replace('•','').replace('‘','').replace('■','').replace('—','')\n",
    "        words = [word for word in nltk.word_tokenize(line) if word not in dict_stop]\n",
    "        line = ' '.join(list(map(stemmer.stem,words)))\n",
    "        if len(line) != 0:\n",
    "            return(line.strip())"
   ]
  },
  {
   "cell_type": "code",
   "execution_count": null,
   "metadata": {
    "collapsed": true
   },
   "outputs": [],
   "source": [
    "# Insert directory:\n",
    "dirname = '/Users/mueric35/Box Sync/nytimes_articles'\n",
    "\n",
    "for filename in os.listdir(dirname):\n",
    "    \n",
    "    print(\"Loading: %s\" % filename,file=sys.stderr)\n",
    "    \n",
    "    ### Read Data as lines\n",
    "    lines = open(dirname + '/' + filename).readlines()\n",
    "    \n",
    "    ### Words Processing Pipeline\n",
    "    punc = nltk.word_tokenize(string.punctuation)\n",
    "    punc.remove('*+')\n",
    "    punc = ''.join(punc)\n",
    "    \n",
    "        \n",
    "    print('Data Tidying', file = sys.stderr)\n",
    "    start = timeit.default_timer()\n",
    "    L = list(map(processing,lines))\n",
    "    L = [l for l in L if l != None]\n",
    "\n",
    "    elapsed = timeit.default_timer() - start\n",
    "    print('Time elapsed ' + str(round(elapsed/60,2)) + ' minutes', file = sys.stderr)\n",
    "\n",
    "    print('Export Text list'+'\\n', file = sys.stderr)\n",
    "    text = []\n",
    "    index = [index for index, value in enumerate(L) if value == '************']\n",
    "    j = 0\n",
    "    for i in index:\n",
    "        text.append(' '.join(L[j:i-1]))   \n",
    "        j = i+1\n",
    "    \n",
    "    collect_letters = []\n",
    "    for i in text:\n",
    "        collect_letters.append(list(set(i)))\n",
    "\n",
    "    normal_letters = list(map(ord, 'abcdefghijklmnopqrstuvwxyz '))\n",
    "\n",
    "    symbol_ord = []\n",
    "    for i in range(len(text)):\n",
    "        symbol_ord += [x for x in list(map(ord,collect_letters[i])) if x not in normal_letters]\n",
    "    \n",
    "    symbols = {}\n",
    "    for i in list(set(temp)):\n",
    "        symbols.update({i:None})\n",
    "\n",
    "    Text = []\n",
    "    for i in text:\n",
    "        Text.append(i.translate(symbols))\n",
    "\n",
    "    \n",
    "    f = open('tidy_' + filename,'w')\n",
    "    for i in Text:\n",
    "        f.write(i+'\\n')\n",
    "    f.close()\n",
    "\n",
    "    print('Completed' + '\\n', file = sys.stderr)"
   ]
  },
  {
   "cell_type": "markdown",
   "metadata": {},
   "source": [
    "### Bigram"
   ]
  },
  {
   "cell_type": "code",
   "execution_count": null,
   "metadata": {
    "collapsed": true
   },
   "outputs": [],
   "source": [
    "start = timeit.default_timer()\n",
    "text_bigram = list(map(lambda x: list(nltk.bigrams(nltk.word_tokenize(x))),text))\n",
    "bigrm = [bi for Bi in text_bigram for bi in Bi]\n",
    "elapsed = timeit.default_timer() - start\n",
    "print(elapsed)"
   ]
  },
  {
   "cell_type": "markdown",
   "metadata": {},
   "source": [
    "### Count the bigram"
   ]
  },
  {
   "cell_type": "code",
   "execution_count": null,
   "metadata": {
    "collapsed": true
   },
   "outputs": [],
   "source": [
    "bigrm_table = Counter(bigrm)"
   ]
  },
  {
   "cell_type": "code",
   "execution_count": null,
   "metadata": {
    "collapsed": true
   },
   "outputs": [],
   "source": [
    "bigrm_table.most_common()"
   ]
  }
 ],
 "metadata": {
  "kernelspec": {
   "display_name": "Python 3",
   "language": "python",
   "name": "python3"
  },
  "language_info": {
   "codemirror_mode": {
    "name": "ipython",
    "version": 3
   },
   "file_extension": ".py",
   "mimetype": "text/x-python",
   "name": "python",
   "nbconvert_exporter": "python",
   "pygments_lexer": "ipython3",
   "version": "3.6.1"
  }
 },
 "nbformat": 4,
 "nbformat_minor": 2
}
